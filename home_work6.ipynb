{
 "cells": [
  {
   "cell_type": "markdown",
   "id": "56045627",
   "metadata": {},
   "source": [
    "##  Урок 6. Расчёт длительности А/B теста + продвинутые топики"
   ]
  },
  {
   "cell_type": "code",
   "execution_count": 1,
   "id": "a7a87b99",
   "metadata": {},
   "outputs": [],
   "source": [
    "from statsmodels.stats.proportion import proportion_effectsize\n",
    "from statsmodels.stats.power import tt_ind_solve_power, zt_ind_solve_power\n",
    "from statsmodels.stats.meta_analysis import effectsize_smd\n",
    "\n",
    "import warnings\n",
    "warnings.filterwarnings('ignore')"
   ]
  },
  {
   "cell_type": "markdown",
   "id": "b9291e1b",
   "metadata": {},
   "source": [
    "### Задание 1"
   ]
  },
  {
   "cell_type": "markdown",
   "id": "758f3c52",
   "metadata": {},
   "source": [
    "Продакт на главной mail.ru решил протестировать в рекомендательной ленте контента вместо карточек со статьями видеоплеер с короткими видео. Нынешний таймспент на юзера в день в среднем равен 25 минут, а стандартная ошибка (SD) равна 156. Мы предполагаем, что в новой версии таймспент на юзера в день изменится на 10%. Средний трафик 20000 человек в день. Посчитайте сколько дней необходимо держать эксперимент при a = 5% и b= 20%."
   ]
  },
  {
   "cell_type": "code",
   "execution_count": 2,
   "id": "78da4892",
   "metadata": {},
   "outputs": [],
   "source": [
    "Mx, SDx, My, n = 25, 156, 25*1.1, 20000\n",
    "alpha = 0.05\n",
    "beta = 0.2"
   ]
  },
  {
   "cell_type": "code",
   "execution_count": 3,
   "id": "0c500076",
   "metadata": {},
   "outputs": [
    {
     "data": {
      "text/plain": [
       "-0.016025340527968824"
      ]
     },
     "execution_count": 3,
     "metadata": {},
     "output_type": "execute_result"
    }
   ],
   "source": [
    "effect_size = effectsize_smd(Mx, SDx, n, My, SDx, n)[0]\n",
    "effect_size"
   ]
  },
  {
   "cell_type": "code",
   "execution_count": 4,
   "id": "f776be45",
   "metadata": {},
   "outputs": [
    {
     "data": {
      "text/plain": [
       "6.1126"
      ]
     },
     "execution_count": 4,
     "metadata": {},
     "output_type": "execute_result"
    }
   ],
   "source": [
    "int(tt_ind_solve_power(effect_size=effect_size, alpha=alpha, power=(1 - beta))) * 2 / n"
   ]
  },
  {
   "cell_type": "markdown",
   "id": "e63865fd",
   "metadata": {},
   "source": [
    "Держать эксперимент необходимо 7 дней."
   ]
  },
  {
   "cell_type": "markdown",
   "id": "bade6369",
   "metadata": {},
   "source": [
    "## Задание 2"
   ]
  },
  {
   "cell_type": "markdown",
   "id": "e13a0317",
   "metadata": {},
   "source": [
    "Наша продуктовая команда в ecommerce магазине планирует запустить тест, направленный на ускорение загрузки сайта. Одна из основных метрик bounce rate в GA = 40%. Мы предполагаем, что при оптимизации сайта она изменится минимум на 20%. Средний трафик 4000 человек в день. Посчитайте сколько нам нужно дней держать эксперимент при a = 5% и b= 20%.\n"
   ]
  },
  {
   "cell_type": "code",
   "execution_count": 5,
   "id": "26e7b27f",
   "metadata": {},
   "outputs": [],
   "source": [
    "p1, p2 = 0.4, 0.4*(1-0.2)\n",
    "alpha = 0.05\n",
    "beta = 0.2\n",
    "n = 4000"
   ]
  },
  {
   "cell_type": "code",
   "execution_count": 6,
   "id": "f9ad2180",
   "metadata": {},
   "outputs": [
    {
     "data": {
      "text/plain": [
       "0.16690997264630902"
      ]
     },
     "execution_count": 6,
     "metadata": {},
     "output_type": "execute_result"
    }
   ],
   "source": [
    "effect_size = proportion_effectsize(p1, p2)\n",
    "effect_size"
   ]
  },
  {
   "cell_type": "code",
   "execution_count": 7,
   "id": "db18e006",
   "metadata": {},
   "outputs": [
    {
     "data": {
      "text/plain": [
       "0.2815"
      ]
     },
     "execution_count": 7,
     "metadata": {},
     "output_type": "execute_result"
    }
   ],
   "source": [
    "int(zt_ind_solve_power(effect_size=effect_size, alpha=alpha, power=(1 - beta))) * 2 / n"
   ]
  },
  {
   "cell_type": "markdown",
   "id": "a5fd5242",
   "metadata": {},
   "source": [
    "При трафике в 4000 человек в день достаточно одного дня эксперимента."
   ]
  },
  {
   "cell_type": "code",
   "execution_count": null,
   "id": "e7674cb1",
   "metadata": {},
   "outputs": [],
   "source": []
  }
 ],
 "metadata": {
  "kernelspec": {
   "display_name": "Python 3 (ipykernel)",
   "language": "python",
   "name": "python3"
  },
  "language_info": {
   "codemirror_mode": {
    "name": "ipython",
    "version": 3
   },
   "file_extension": ".py",
   "mimetype": "text/x-python",
   "name": "python",
   "nbconvert_exporter": "python",
   "pygments_lexer": "ipython3",
   "version": "3.11.3"
  }
 },
 "nbformat": 4,
 "nbformat_minor": 5
}
